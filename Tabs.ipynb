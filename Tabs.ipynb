{
 "cells": [
  {
   "cell_type": "code",
   "execution_count": null,
   "id": "587db945-f897-4c8c-aac8-81695bf0c037",
   "metadata": {},
   "outputs": [],
   "source": [
    "import numpy as np\n",
    "import matplotlib.pyplot as plt\n",
    "import PySimpleGUI as sg\n",
    "from matplotlib.backends.backend_tkagg import FigureCanvasTkAgg\n",
    "from scipy.signal import chirp, spectrogram\n",
    "import scipy.fft as fft\n",
    "import os"
   ]
  },
  {
   "cell_type": "code",
   "execution_count": 5,
   "id": "1f2d916f-d893-437e-85db-df173b7db8e0",
   "metadata": {
    "tags": []
   },
   "outputs": [
    {
     "ename": "NameError",
     "evalue": "name '_VARS' is not defined",
     "output_type": "error",
     "traceback": [
      "\u001b[0;31m---------------------------------------------------------------------------\u001b[0m",
      "\u001b[0;31mNameError\u001b[0m                                 Traceback (most recent call last)",
      "\u001b[0;32m/tmp/ipykernel_10200/1912414628.py\u001b[0m in \u001b[0;36m<module>\u001b[0;34m\u001b[0m\n\u001b[1;32m      4\u001b[0m \u001b[0;34m\u001b[0m\u001b[0m\n\u001b[1;32m      5\u001b[0m create_file = [[sg.Text('Please enter the directory name:', background_color='#FDF6E3', text_color='Black')],\n\u001b[0;32m----> 6\u001b[0;31m                \u001b[0;34m[\u001b[0m\u001b[0msg\u001b[0m\u001b[0;34m.\u001b[0m\u001b[0mInputText\u001b[0m\u001b[0;34m(\u001b[0m\u001b[0m_VARS\u001b[0m\u001b[0;34m[\u001b[0m\u001b[0;34m'directory_name'\u001b[0m\u001b[0;34m]\u001b[0m\u001b[0;34m,\u001b[0m \u001b[0mkey\u001b[0m \u001b[0;34m=\u001b[0m \u001b[0;34m'-directory_name-'\u001b[0m\u001b[0;34m)\u001b[0m\u001b[0;34m]\u001b[0m\u001b[0;34m,\u001b[0m\u001b[0;34m\u001b[0m\u001b[0;34m\u001b[0m\u001b[0m\n\u001b[0m\u001b[1;32m      7\u001b[0m                \u001b[0;34m[\u001b[0m\u001b[0msg\u001b[0m\u001b[0;34m.\u001b[0m\u001b[0mSubmit\u001b[0m\u001b[0;34m(\u001b[0m\u001b[0;34m)\u001b[0m\u001b[0;34m,\u001b[0m \u001b[0msg\u001b[0m\u001b[0;34m.\u001b[0m\u001b[0mCancel\u001b[0m\u001b[0;34m(\u001b[0m\u001b[0;34m)\u001b[0m\u001b[0;34m]\u001b[0m\u001b[0;34m\u001b[0m\u001b[0;34m\u001b[0m\u001b[0m\n\u001b[1;32m      8\u001b[0m               ]\n",
      "\u001b[0;31mNameError\u001b[0m: name '_VARS' is not defined"
     ]
    }
   ],
   "source": [
    "# Front page tab\n",
    "\n",
    "cwd = os.getcwd()\n",
    "\n",
    "create_file = [[sg.Text('Please enter the directory name:', background_color='#FDF6E3', text_color='Black')],\n",
    "               [sg.InputText(_VARS['directory_name'], key = '-directory_name-')],\n",
    "               [sg.Submit(), sg.Cancel()]\n",
    "              ]\n",
    "\n",
    "contact_information_array = [\n",
    "    ['161 Magnolia St', '331-569'],\n",
    "    ['392 Butcher St', '243-897'],\n",
    "    ['3341 Columbus Ave', '998-731']\n",
    "]\n",
    "\n",
    "headings = ['Physical Channel', 'Sensitivity']\n",
    "\n",
    "hydrophone_table = [[sg.Text('DAQ found:', background_color='#FDF6E3', text_color='Black'), \\\n",
    "                     LEDIndicator('_DAQ_')],\n",
    "                    [sg.Table(values=_VARS['sensor_data'], # SUBSTITUTE FOR \"connected_ai\"\n",
    "                    headings=headings, \n",
    "                    max_col_width=35,\n",
    "                    auto_size_columns=True,\n",
    "                    display_row_numbers=True,\n",
    "                    justification='right',\n",
    "                    num_rows=10,\n",
    "                    key='-TABLE-',\n",
    "                    row_height=35,\n",
    "                    expand_x=True,\n",
    "                    expand_y=True,\n",
    "                    enable_click_events=True)],\n",
    "                   [sg.Text('Cell clicked:'), sg.T(key='-CLICKED_CELL-')]]\n",
    "\n",
    "\n",
    "FrontPage_layout = [[\n",
    "                        sg.Column(hydrophone_table, background_color='#FDF6E3'),\n",
    "                        sg.Column(create_file, background_color='#FDF6E3')\n",
    "                     ]]\n",
    "\n"
   ]
  },
  {
   "cell_type": "code",
   "execution_count": 5,
   "id": "a2d61305-4136-4ce7-b66b-8d25c4d2a754",
   "metadata": {
    "tags": []
   },
   "outputs": [],
   "source": [
    "# Signal Generation tab\n",
    "\n",
    "options = [[sg.Text(text = \"Max frequency (Chirp)\", background_color='#FDF6E3', text_color='Black')],\n",
    "           [sg.InputText(_VARS['max_frequency'], key = '-max_frequency-')],\n",
    "           [sg.Text(text = \"Frequency (Constant)\", background_color='#FDF6E3', text_color='Black')],\n",
    "           [sg.InputText(_VARS['frequency'], key = '-frequency-')],\n",
    "           [sg.Text(text = \"Peak amplitude\", background_color='#FDF6E3', text_color='Black')],\n",
    "           [sg.InputText(_VARS['peak_amplitude'], key = '-peak_amplitude-')],\n",
    "           [sg.Text(text = \"Sampling rate\", background_color='#FDF6E3', text_color='Black')],\n",
    "           [sg.InputText(_VARS['sampling_rate'], key = '-sampling_rate-')],\n",
    "           [sg.Text(text = \"Pulse time\", background_color='#FDF6E3', text_color='Black')],\n",
    "           [sg.InputText(_VARS['pulse_time'], key = '-pulse_time-')],\n",
    "           [sg.Text(text = \"Pulse type\", background_color='#FDF6E3', text_color='Black')],\n",
    "           [sg.Listbox(pulse_choices, default_values = 'Constant', select_mode='extended', key = '-pulse_type-', size=(30, 6))],\n",
    "           [sg.Button('OK', font=AppFont, pad=((4, 0), (10, 0)))],\n",
    "           [sg.Button('Exit', font=AppFont, pad=((540, 0), (0, 0)))] ]\n",
    "           #[sg.InputText(_VARS['pulse_type'])]]\n",
    "\n",
    "layout = [[sg.Canvas(key='figCanvas', background_color='#FDF6E3')],\n",
    "          [sg.Canvas(key='figCanvasFreq', background_color='#FDF6E3')] \n",
    "          # pad ((left, right), (top, bottom))\n",
    "          ]\n",
    "\n",
    "SigGen_layout = [[sg.Column(options, background_color='#FDF6E3'), \n",
    "                  sg.Column(layout, background_color='#FDF6E3')]]\n",
    "\n",
    "\n"
   ]
  },
  {
   "cell_type": "code",
   "execution_count": 6,
   "id": "db1ca23f-52a1-41f4-9252-63c35ad2bead",
   "metadata": {},
   "outputs": [],
   "source": [
    "# Measurement tab\n",
    "#########  1st Row #########\n",
    "# 1st Column\n",
    "measurement_type = [\n",
    "                    [sg.Text(text = \"measurement type\", background_color='#FDF6E3', text_color='Black')],\n",
    "                    [sg.Radio('single-shot measurement', \"-meas-type-\", default = True,\\\n",
    "                              background_color='#FDF6E3', text_color='Black')],\n",
    "                    [sg.Radio('continuous measurement', \"-meas_type-\", default = False, \\\n",
    "                              background_color='#FDF6E3', text_color='Black')]\n",
    "                   ]\n",
    "\n",
    "#start_measurement = sg.Button('Start Measurement', font=AppFont, pad=((540, 0), (0, 0)))\n",
    "\n",
    "miscellaneous = [ [sg.InputText(_VARS['duration'], key = '-duration-', pad=((0, 0), (0, 30))),\\\n",
    "                  sg.InputText(_VARS['freq_resolution'], key = '-freq_resolution-', pad=((0, 0), (0, 30)))], \n",
    "                 [sg.Button('Start', font=AppFont, pad=((54, 0), (0, 0)))]\n",
    "                 ]\n",
    "\n",
    "measurement_row1 = [[sg.Frame('',[[\n",
    "                     sg.Text(text = \"measurement type\", background_color='#FDF6E3', text_color='Black', pad=((0, 70), (0, 0))),\n",
    "                     sg.Text(text = 'Comments', background_color='#FDF6E3', text_color='Black', pad=((0, 160), (0, 0))),\n",
    "                     sg.Text(text = \"Acquisition Duration (s)\", background_color='#FDF6E3', text_color='Black', pad=((0, 160), (0, 0))),\n",
    "                     sg.Text(text = \"Frequency resolution\", background_color='#FDF6E3', text_color='Black')\n",
    "                        ]], background_color='#FDF6E3')],\n",
    "                    [sg.Column(measurement_type, background_color='#FDF6E3'), \\\n",
    "                     sg.Multiline(size=(30, 5), key='-comments-'), \\\n",
    "                     sg.Column(miscellaneous, background_color='#FDF6E3')]\n",
    "                   ]\n",
    "                   \n",
    "\n",
    "#---------------------------------------------------------------------\n",
    "\n",
    "Measurement_layout = [ [sg.Frame('', layout = measurement_row1, background_color='#FDF6E3')],\n",
    "                       [sg.Canvas(key='RMSCanvas', background_color='#FDF6E3'), \\\n",
    "                        sg.Canvas(key='PowerSpecCanvas', background_color='#FDF6E3')],\n",
    "                       [sg.Canvas(key='TimeSeriesCanvas', background_color='#FDF6E3')]\n",
    "                       ]"
   ]
  }
 ],
 "metadata": {
  "kernelspec": {
   "display_name": "Python 3 (ipykernel)",
   "language": "python",
   "name": "python3"
  },
  "language_info": {
   "codemirror_mode": {
    "name": "ipython",
    "version": 3
   },
   "file_extension": ".py",
   "mimetype": "text/x-python",
   "name": "python",
   "nbconvert_exporter": "python",
   "pygments_lexer": "ipython3",
   "version": "3.9.13"
  }
 },
 "nbformat": 4,
 "nbformat_minor": 5
}
