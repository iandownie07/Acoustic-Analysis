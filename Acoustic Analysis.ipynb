{
 "cells": [
  {
   "cell_type": "code",
   "execution_count": 3,
   "id": "e1c1f3f2-1518-4837-b24e-1eb3c0e4c8d0",
   "metadata": {},
   "outputs": [],
   "source": [
    "import numpy as np\n",
    "import matplotlib.pyplot as plt\n",
    "import PySimpleGUI as sg\n",
    "from matplotlib.backends.backend_tkagg import FigureCanvasTkAgg\n",
    "from scipy.signal import chirp, spectrogram\n",
    "import scipy.fft as fft\n",
    "import os"
   ]
  },
  {
   "cell_type": "code",
   "execution_count": 4,
   "id": "2912fb69-4499-47cc-b157-d134462679a9",
   "metadata": {},
   "outputs": [
    {
     "name": "stdout",
     "output_type": "stream",
     "text": [
      "The current working directory is /Users/iandownie/Hydrophones/Acoustic Analysis\n"
     ]
    }
   ],
   "source": [
    "%run Variables_Functions.ipynb\n",
    "%run Tabs.ipynb"
   ]
  },
  {
   "cell_type": "code",
   "execution_count": null,
   "id": "2e271131-18c9-4148-84bc-8f41753562a9",
   "metadata": {},
   "outputs": [],
   "source": [
    "i = 0 # Use i so we can make multiple recordings in the same folder\n",
    "j = 0 # Use j so we can update the measured graphs\n",
    "k = 0 # Use k so we can make a new wave file\n",
    "tab_group = [\n",
    "                [sg.TabGroup(\n",
    "                    [[\n",
    "                        sg.Tab('Configuration', FrontPage_layout, background_color = '#FDF6E3'),\n",
    "                        sg.Tab('Signal Generation', SigGen_layout, background_color = '#FDF6E3'),                 \n",
    "                        sg.Tab('Measurement', Measurement_layout, background_color = '#FDF6E3')\n",
    "                    ]],\n",
    "                    tab_location = 'centertop',\n",
    "                    title_color = 'Black', \n",
    "                    tab_background_color = '#C4BEAC',\n",
    "                    selected_title_color = 'Black',\n",
    "                    selected_background_color = '#E4FAFF',\n",
    "                    background_color = '#FDF6E3'),\n",
    "                    sg.Button('Exit')  \n",
    "                ]\n",
    "            ]\n",
    "         \n",
    "\n",
    "_VARS['window'] = sg.Window('Random Samples',\n",
    "                            tab_group,\n",
    "                            finalize=True,\n",
    "                            resizable=True,\n",
    "                            location=(100, 100),\n",
    "                            element_justification=\"center\",\n",
    "                            background_color='#FDF6E3')\n",
    "\n",
    "\n",
    "drawTimeSeriesTx()\n",
    "drawPSDTx()\n",
    "drawRMS()\n",
    "\n",
    "\n",
    "\n",
    "# MAIN LOOP\n",
    "while True:\n",
    "    event, values = _VARS['window'].read(timeout=200)\n",
    "    if event == sg.WIN_CLOSED or event == 'Exit':\n",
    "        break\n",
    "    elif event == 'Submit':\n",
    "        generate_directory_name(str(values['-directory_name-']))\n",
    "        #path = os.getcwd()\n",
    "        #print (\"The current working directory is %s\" % path)\n",
    "        #print (\"The stored working directory is %s\" % _VARS['directory_name'])\n",
    "    elif event == 'Resample':\n",
    "        updateChart()\n",
    "    elif event == '-Slider-':\n",
    "        updateData(int(values['-Slider-']))\n",
    "    elif event == 'OK':\n",
    "        updateParameters(float(values['-max_frequency-']),float(values['-frequency-']), \\\n",
    "                         float(values['-peak_amplitude-']),float(values['-sampling_rate-']), \\\n",
    "                         float(values['-pulse_time-']), str(values['-pulse_type-']))\n",
    "    elif event == 'Start':\n",
    "        recordADC()\n",
    "        print(j)\n",
    "        \n",
    "\n",
    "        \n",
    "        # print(int(values['-Slider-']))\n",
    "_VARS['window'].close()\n"
   ]
  },
  {
   "cell_type": "code",
   "execution_count": 2,
   "id": "4b7c2285-e2ef-46d4-8faa-e474d7dfb2c7",
   "metadata": {},
   "outputs": [
    {
     "name": "stdout",
     "output_type": "stream",
     "text": [
      "The current working directory is /Users/iandownie/Hydrophones/Acoustic Analysis\n"
     ]
    }
   ],
   "source": [
    "path = os.getcwd()\n",
    "print (\"The current working directory is %s\" % path)"
   ]
  },
  {
   "cell_type": "code",
   "execution_count": null,
   "id": "2b8068cb-3d99-4224-933b-159c0b811a69",
   "metadata": {},
   "outputs": [],
   "source": []
  }
 ],
 "metadata": {
  "kernelspec": {
   "display_name": "Python 3 (ipykernel)",
   "language": "python",
   "name": "python3"
  },
  "language_info": {
   "codemirror_mode": {
    "name": "ipython",
    "version": 3
   },
   "file_extension": ".py",
   "mimetype": "text/x-python",
   "name": "python",
   "nbconvert_exporter": "python",
   "pygments_lexer": "ipython3",
   "version": "3.8.8"
  }
 },
 "nbformat": 4,
 "nbformat_minor": 5
}
