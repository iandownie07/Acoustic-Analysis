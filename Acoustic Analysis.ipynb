{
 "cells": [
  {
   "cell_type": "code",
   "execution_count": 72,
   "id": "e1c1f3f2-1518-4837-b24e-1eb3c0e4c8d0",
   "metadata": {},
   "outputs": [],
   "source": [
    "import numpy as np\n",
    "import matplotlib.pyplot as plt\n",
    "import PySimpleGUI as sg\n",
    "from matplotlib.backends.backend_tkagg import FigureCanvasTkAgg\n",
    "from scipy.signal import chirp, spectrogram\n",
    "import scipy.fft as fft\n",
    "import os\n",
    "import nidaqmx as ni\n",
    "from nidaqmx.constants import WAIT_INFINITELY\n",
    "from nidaqmx.constants import Slope\n",
    "from nidaqmx.constants import TaskMode\n",
    "import time"
   ]
  },
  {
   "cell_type": "code",
   "execution_count": 73,
   "id": "2912fb69-4499-47cc-b157-d134462679a9",
   "metadata": {},
   "outputs": [
    {
     "name": "stdout",
     "output_type": "stream",
     "text": [
      "The current working directory is /home/ian/Acoustic-Analysis\n"
     ]
    }
   ],
   "source": [
    "%run Variables_Functions.ipynb\n",
    "%run Tabs.ipynb"
   ]
  },
  {
   "cell_type": "code",
   "execution_count": null,
   "id": "2e271131-18c9-4148-84bc-8f41753562a9",
   "metadata": {},
   "outputs": [
    {
     "name": "stdout",
     "output_type": "stream",
     "text": [
      "0\n",
      "('-TABLE-', '+CLICKED+', (0, 1))\n",
      "set to callback  1\n"
     ]
    }
   ],
   "source": [
    "i = 0 # Use i so we can make multiple recordings in the same folder\n",
    "j = 0 # Use j so we can update the measured graphs\n",
    "k = 0 # Use k so we can make a new wave file\n",
    "tab_group = [\n",
    "                [sg.TabGroup(\n",
    "                    [[\n",
    "                        sg.Tab('Configuration', FrontPage_layout, background_color = '#FDF6E3'),\n",
    "                        sg.Tab('Signal Generation', SigGen_layout, background_color = '#FDF6E3'),                 \n",
    "                        sg.Tab('Measurement', Measurement_layout, background_color = '#FDF6E3')\n",
    "                    ]],\n",
    "                    tab_location = 'centertop',\n",
    "                    title_color = 'Black', \n",
    "                    tab_background_color = '#C4BEAC',\n",
    "                    selected_title_color = 'Black',\n",
    "                    selected_background_color = '#E4FAFF',\n",
    "                    background_color = '#FDF6E3'),\n",
    "                    sg.Button('Exit')  \n",
    "                ]\n",
    "            ]\n",
    "         \n",
    "\n",
    "_VARS['window'] = sg.Window('Random Samples',\n",
    "                            tab_group,\n",
    "                            finalize=True,\n",
    "                            resizable=True,\n",
    "                            return_keyboard_events=True,\n",
    "                            #location=(100, 100),\n",
    "                            element_justification=\"center\",\n",
    "                            background_color='#FDF6E3')\n",
    "\n",
    "\n",
    "drawTimeSeriesTx()\n",
    "drawPSDTx()\n",
    "\n",
    "\n",
    "local = ni.system.System.local()\n",
    "#sg.set_options(dpi_awareness=True)\n",
    "first_time = True # initial settings\n",
    "window = _VARS['window']\n",
    "#window['-TABLE-'].bind(\"<Double-Button-1>\", \" Double\") \n",
    "window['-TABLE-'].bind(\"<Return>\", \"_Enter\")\n",
    "\n",
    "# MAIN LOOP\n",
    "while True:\n",
    "    edit = False\n",
    "    devices = query_devices()\n",
    "    if not devices:\n",
    "        _VARS['sensor_data'] = []\n",
    "        update_table(_VARS['window'], '-TABLE-', _VARS['sensor_data'])\n",
    "        SetLED(_VARS['window'], '_DAQ_', 'green' if devices else 'red')\n",
    "        while not devices:\n",
    "            devices = query_devices()\n",
    "            event, values = _VARS['window'].read(timeout=200)\n",
    "            if event == sg.WIN_CLOSED or event == 'Exit':\n",
    "                break\n",
    "        first_time = True \n",
    "    \n",
    "    SetLED(_VARS['window'], '_DAQ_', 'green' if devices else 'red')\n",
    "    if first_time == True:\n",
    "        _VARS['sensor_data'] = [[_VARS['output_channel'][i]] for i in range(len(_VARS['output_channel']))]\n",
    "        for i in range(len(_VARS['sensor_data'])):\n",
    "            _VARS['sensor_data'][i].append(1)\n",
    "        #print( _VARS['sensor_data'])\n",
    "        update_table(_VARS['window'], '-TABLE-', _VARS['sensor_data'])\n",
    "        \n",
    "    time.sleep(1)\n",
    "    \n",
    "    event, values = _VARS['window'].read(timeout=200)\n",
    "    if event == sg.WIN_CLOSED or event == 'Exit':\n",
    "        break\n",
    "            # Checks if the event object is of tuple data type, indicating a click on a cell'\n",
    "            \n",
    "    elif isinstance(event, tuple):\n",
    "        if isinstance(event[2][0], int) and event[2][0] > -1:\n",
    "            cell = row, col = event[2]\n",
    "            print(row)\n",
    "            print(event)\n",
    "            window = _VARS['window']\n",
    "            window['-CLICKED_CELL-'].update(cell)\n",
    "            edit_cell(window, '-TABLE-', row+1, col+1, justify='right')\n",
    "            # Displays that coordinates of the cell that was clicked on\n",
    "            #elif event == \"Input1\" + \"_Enter\":\n",
    "   \n",
    "    #elif event == '-TABLE- Double':\n",
    "     #   print(values['-TABLE-'])\n",
    "     #   print(event)\n",
    "     #   col = values['-TABLE-'][0]\n",
    "\n",
    "    elif event == 'Submit':\n",
    "        generate_directory_name(str(values['-directory_name-']))\n",
    "        #path = os.getcwd()\n",
    "        #print (\"The current working directory is %s\" % path)\n",
    "        #print (\"The stored working directory is %s\" % _VARS['directory_name'])\n",
    "        \n",
    "    elif event == 'OK':\n",
    "        updateParameters(float(values['-max_frequency-']),float(values['-frequency-']), \\\n",
    "                         float(values['-peak_amplitude-']),float(values['-sampling_rate-']), \\\n",
    "                         float(values['-pulse_time-']), str(values['-pulse_type-']))\n",
    "    elif event == 'Start':\n",
    "        recordADC()\n",
    "        print(j)\n",
    "        \n",
    "    first_time = False\n",
    "        \n",
    "        # print(int(values['-Slider-']))\n",
    "_VARS['window'].close()\n"
   ]
  },
  {
   "cell_type": "code",
   "execution_count": null,
   "id": "4b7c2285-e2ef-46d4-8faa-e474d7dfb2c7",
   "metadata": {},
   "outputs": [],
   "source": [
    "path = os.getcwd()\n",
    "print (\"The current working directory is %s\" % path)"
   ]
  },
  {
   "cell_type": "code",
   "execution_count": 53,
   "id": "2b8068cb-3d99-4224-933b-159c0b811a69",
   "metadata": {},
   "outputs": [
    {
     "name": "stdout",
     "output_type": "stream",
     "text": [
      "[['cDAQ1Mod2/ao0', 1], ['cDAQ1Mod2/ao1', 1]]\n"
     ]
    }
   ],
   "source": [
    "print(_VARS['sensor_data'])"
   ]
  },
  {
   "cell_type": "code",
   "execution_count": null,
   "id": "62296d09-d13a-4731-9ae6-bde5233e70e3",
   "metadata": {},
   "outputs": [],
   "source": [
    "plt.plot(indata)"
   ]
  },
  {
   "cell_type": "code",
   "execution_count": 37,
   "id": "684c7cf8-6cce-41f5-bf4f-51e757cd6397",
   "metadata": {},
   "outputs": [],
   "source": [
    "\n",
    "def query_devices():\n",
    "  local = ni.system.System.local()\n",
    "  for device in local.devices:\n",
    "    print('Device Name: {device.name}, Product Type: {device.product_type}')\n",
    "    print('Input channels:', [chan.name for chan in device.ai_physical_chans])\n",
    "    print('Output channels:', [chan.name for chan in device.ao_physical_chans])\n",
    "    #return device.name\n",
    "\n"
   ]
  },
  {
   "cell_type": "code",
   "execution_count": 15,
   "id": "2013b4e5-b53e-43b0-9836-e04312745cf3",
   "metadata": {},
   "outputs": [
    {
     "name": "stdout",
     "output_type": "stream",
     "text": [
      "['cDAQ1', 'cDAQ1Mod1', 'cDAQ1Mod2']\n",
      "['cDAQ1Mod2/ao0', 'cDAQ1Mod2/ao1']\n"
     ]
    }
   ],
   "source": [
    "x, y = query_devices()\n",
    "print(x)\n",
    "print(y)"
   ]
  },
  {
   "cell_type": "code",
   "execution_count": null,
   "id": "e9502065-90dc-4113-b18a-1a693d9a504c",
   "metadata": {},
   "outputs": [],
   "source": [
    "\n",
    "\n",
    "\n"
   ]
  },
  {
   "cell_type": "code",
   "execution_count": 62,
   "id": "5f3edc99-306d-41d3-a852-9fc215e8aa2f",
   "metadata": {},
   "outputs": [
    {
     "name": "stdout",
     "output_type": "stream",
     "text": [
      "['cDAQ1', 'cDAQ1Mod1', 'cDAQ1Mod2']\n",
      "['cDAQ1Mod2/ao0', 'cDAQ1Mod2/ao1']\n"
     ]
    }
   ],
   "source": [
    "query_devices()\n",
    "print(devices)\n",
    "print(output_channel)"
   ]
  },
  {
   "cell_type": "code",
   "execution_count": 24,
   "id": "703f71a8-25e8-43eb-ab38-81f12e14b477",
   "metadata": {},
   "outputs": [],
   "source": [
    "def query_devices():\n",
    "    local = ni.system.System.local()\n",
    "    device1 = local.devices[0].name\n",
    "    return local.devices[0].name\n",
    "\n"
   ]
  },
  {
   "cell_type": "code",
   "execution_count": null,
   "id": "13f618f2-10d7-4ba6-9bf7-26b427640e7c",
   "metadata": {},
   "outputs": [],
   "source": [
    "def query_DAQ():\n",
    "    local = None\n",
    "    local = ni.system.System.local()\n",
    "    return local\n",
    "    "
   ]
  },
  {
   "cell_type": "code",
   "execution_count": 26,
   "id": "d65a3f0d-1886-4ef3-92dd-dc22fd5f0f05",
   "metadata": {},
   "outputs": [
    {
     "data": {
      "text/plain": [
       "'cDAQ1'"
      ]
     },
     "execution_count": 26,
     "metadata": {},
     "output_type": "execute_result"
    }
   ],
   "source": [
    "query_devices()"
   ]
  },
  {
   "cell_type": "code",
   "execution_count": 25,
   "id": "f7b9aa78-95a4-4f51-8c80-098bc93cbb0c",
   "metadata": {},
   "outputs": [
    {
     "ename": "NameError",
     "evalue": "name 'device1' is not defined",
     "output_type": "error",
     "traceback": [
      "\u001b[0;31m---------------------------------------------------------------------------\u001b[0m",
      "\u001b[0;31mNameError\u001b[0m                                 Traceback (most recent call last)",
      "\u001b[0;32m/tmp/ipykernel_3264/243982428.py\u001b[0m in \u001b[0;36m<module>\u001b[0;34m\u001b[0m\n\u001b[0;32m----> 1\u001b[0;31m \u001b[0mprint\u001b[0m\u001b[0;34m(\u001b[0m\u001b[0mdevice1\u001b[0m\u001b[0;34m)\u001b[0m\u001b[0;34m\u001b[0m\u001b[0;34m\u001b[0m\u001b[0m\n\u001b[0m",
      "\u001b[0;31mNameError\u001b[0m: name 'device1' is not defined"
     ]
    }
   ],
   "source": [
    "print(device1)"
   ]
  },
  {
   "cell_type": "code",
   "execution_count": 1,
   "id": "ed4895b3-cf59-4f05-bf54-accc1d1947c3",
   "metadata": {},
   "outputs": [],
   "source": [
    "#!/usr/bin/env python\n",
    "import PySimpleGUI as sg\n",
    "import time\n",
    "import random\n",
    "\n",
    "\"\"\"\n",
    "    Demo program showing how to create your own \"LED Indicators\"\n",
    "    The LEDIndicator function acts like a new Element that is directly placed in a window's layout\n",
    "    After the Window is created, use the SetLED function to access the LED and set the color\n",
    "\n",
    "\"\"\"\n",
    "\n",
    "\n",
    "def LEDIndicator(key=None, radius=30):\n",
    "    return sg.Graph(canvas_size=(radius, radius),\n",
    "             graph_bottom_left=(-radius, -radius),\n",
    "             graph_top_right=(radius, radius),\n",
    "             pad=(0, 0), key=key)\n",
    "\n",
    "def SetLED(window, key, color):\n",
    "    graph = window[key]\n",
    "    graph.erase()\n",
    "    graph.draw_circle((0, 0), 12, fill_color=color, line_color=color)\n",
    "\n",
    "\n",
    "layout = [[sg.Text('My LED Status Indicators', size=(20,1))],\n",
    "          [sg.Text('CPU Use'), LEDIndicator('_cpu_')],\n",
    "          [sg.Text('RAM'), LEDIndicator('_ram_')],\n",
    "          [sg.Text('Temperature'), LEDIndicator('_temp_')],\n",
    "          [sg.Text('Server 1'), LEDIndicator('_server1_')],\n",
    "          [sg.Button('Exit')]]\n",
    "\n",
    "window = sg.Window('My new window', layout, default_element_size=(12, 1), auto_size_text=False, finalize=True)\n",
    "\n",
    "i = 0\n",
    "while True:  # Event Loop\n",
    "    event, value = window.read(timeout=400)\n",
    "    if event == 'Exit' or event == sg.WIN_CLOSED:\n",
    "        break\n",
    "    if value is None:\n",
    "        break\n",
    "    i += 1\n",
    "    SetLED(window, '_cpu_', 'green' if random.randint(1, 10) > 5 else 'red')\n",
    "    SetLED(window, '_ram_', 'green' if random.randint(1, 10) > 5 else 'red')\n",
    "    SetLED(window, '_temp_', 'green' if random.randint(1, 10) > 5 else 'red')\n",
    "    SetLED(window, '_server1_', 'green' if random.randint(1, 10) > 5 else 'red')\n",
    "window.close()\n"
   ]
  },
  {
   "cell_type": "code",
   "execution_count": 11,
   "id": "2c52c21c-c488-4c52-a4e6-c27bc256e551",
   "metadata": {},
   "outputs": [],
   "source": [
    "def query_devices():\n",
    "    devices = []\n",
    "    output_channel = []\n",
    "    local = ni.system.System.local()\n",
    "    for device_num in range(len(local.devices)):\n",
    "        devices.append(local.devices[device_num].name)\n",
    "        for ao in range(len(local.devices[device_num].ao_physical_chans)):\n",
    "            output_channel.append(local.devices[device_num].ao_physical_chans[ao].name)\n",
    "    \n",
    "    return devices, output_channel"
   ]
  },
  {
   "cell_type": "code",
   "execution_count": 14,
   "id": "6f31ca2d-270f-4443-94d8-ab7b6671afc1",
   "metadata": {},
   "outputs": [],
   "source": [
    "x, y = query_devices()"
   ]
  },
  {
   "cell_type": "code",
   "execution_count": 15,
   "id": "9f8bd276-31fd-4703-a1d0-4d3c5092fd33",
   "metadata": {},
   "outputs": [
    {
     "data": {
      "text/plain": [
       "'cDAQ1Mod2/ao0'"
      ]
     },
     "execution_count": 15,
     "metadata": {},
     "output_type": "execute_result"
    }
   ],
   "source": [
    "y[0]"
   ]
  },
  {
   "cell_type": "code",
   "execution_count": 29,
   "id": "aeb83ad4-0185-4148-9632-00330b6f9df1",
   "metadata": {},
   "outputs": [],
   "source": [
    "data_list = ['cat','mouse']\n",
    "new_list = [[data_list[i]] for i in range(len(data_list))]\n",
    "for i in range(len(new_list)):\n",
    "    new_list[i].append(1)"
   ]
  },
  {
   "cell_type": "code",
   "execution_count": 30,
   "id": "e380a62b-2468-40c4-950c-f7c63f22ea8e",
   "metadata": {},
   "outputs": [
    {
     "data": {
      "text/plain": [
       "[['cat', 1], ['mouse', 1]]"
      ]
     },
     "execution_count": 30,
     "metadata": {},
     "output_type": "execute_result"
    }
   ],
   "source": [
    "new_list"
   ]
  },
  {
   "cell_type": "code",
   "execution_count": 19,
   "id": "6c9eb723-3402-4bf9-a09d-fb833ed2bc77",
   "metadata": {},
   "outputs": [],
   "source": [
    "for i in range(len(new_list)):\n",
    "    new_list[i].append(1)"
   ]
  },
  {
   "cell_type": "code",
   "execution_count": 20,
   "id": "cd15c57a-c1bb-4c72-8fad-bf386f26e8bf",
   "metadata": {},
   "outputs": [
    {
     "data": {
      "text/plain": [
       "[[0, 1], [1, 1]]"
      ]
     },
     "execution_count": 20,
     "metadata": {},
     "output_type": "execute_result"
    }
   ],
   "source": [
    "new_list"
   ]
  },
  {
   "cell_type": "code",
   "execution_count": 15,
   "id": "dabe70c2-7432-4b8e-8716-673e9982737c",
   "metadata": {},
   "outputs": [
    {
     "name": "stdout",
     "output_type": "stream",
     "text": [
      "['a', ['bb', 'cc', 'xx'], 'd']\n"
     ]
    }
   ],
   "source": [
    "my_list = ['a', ['bb', 'cc'], 'd']\n",
    "my_list[1].append('xx')\n",
    "print(my_list)\n",
    "# Prints ['a', ['bb', 'cc', 'xx'], 'd']"
   ]
  },
  {
   "cell_type": "code",
   "execution_count": 11,
   "id": "f8ea62a5-112f-4122-8414-7cc25e8fc022",
   "metadata": {},
   "outputs": [
    {
     "name": "stdout",
     "output_type": "stream",
     "text": [
      "8.912509381337455e-07\n",
      "6.291647694905143e-07\n"
     ]
    },
    {
     "data": {
      "image/png": "[encoded data removed]",
      "text/plain": [
       "<Figure size 640x480 with 1 Axes>"
      ]
     },
     "metadata": {},
     "output_type": "display_data"
    }
   ],
   "source": [
    "    y = _VARS['recorded_data'][:, 1]\n",
    "    rms = np.sqrt(np.mean((y*_VARS['sensitivity'])**2))\n",
    "    print(_VARS['sensitivity'])\n",
    "    print(rms)\n",
    "    rms_values = [rms, 0]\n",
    "    hydrophones = ['1','2']\n",
    "    plt.bar(x = hydrophones, height = rms_values, width = 0.07)\n",
    "    plt.xlabel('Hydrophone')\n",
    "    plt.ylabel('RMS amplitude')\n",
    "    plt.title('Sensors RMS amplitude')\n",
    "    plt.show()"
   ]
  },
  {
   "cell_type": "code",
   "execution_count": 5,
   "id": "93fa9d3a-9c4e-4f48-a3f0-c5fb80768b5b",
   "metadata": {},
   "outputs": [
    {
     "data": {
      "image/png": "[encoded data removed]",
      "text/plain": [
       "<Figure size 1000x500 with 1 Axes>"
      ]
     },
     "metadata": {},
     "output_type": "display_data"
    }
   ],
   "source": [
    "import numpy as np\n",
    "import matplotlib.pyplot as plt\n",
    "\n",
    "\n",
    "# creating the dataset\n",
    "data = {'C':20, 'C++':15, 'Java':30,\n",
    "\t\t'Python':35}\n",
    "courses = list(data.keys())\n",
    "values = list(data.values())\n",
    "\n",
    "fig = plt.figure(figsize = (10, 5))\n",
    "\n",
    "# creating the bar plot\n",
    "plt.bar(courses, values, color ='maroon',\n",
    "\t\twidth = 0.4)\n",
    "\n",
    "plt.xlabel(\"Courses offered\")\n",
    "plt.ylabel(\"No. of students enrolled\")\n",
    "plt.title(\"Students enrolled in different courses\")\n",
    "plt.show()"
   ]
  },
  {
   "cell_type": "code",
   "execution_count": null,
   "id": "e3c90556-b101-4edc-a349-6abb57923726",
   "metadata": {},
   "outputs": [],
   "source": []
  },
  {
   "cell_type": "code",
   "execution_count": null,
   "id": "6c135d70-2357-41e7-941b-228721edc77a",
   "metadata": {},
   "outputs": [],
   "source": []
  }
 ],
 "metadata": {
  "kernelspec": {
   "display_name": "Python 3 (ipykernel)",
   "language": "python",
   "name": "python3"
  },
  "language_info": {
   "codemirror_mode": {
    "name": "ipython",
    "version": 3
   },
   "file_extension": ".py",
   "mimetype": "text/x-python",
   "name": "python",
   "nbconvert_exporter": "python",
   "pygments_lexer": "ipython3",
   "version": "3.9.15"
  }
 },
 "nbformat": 4,
 "nbformat_minor": 5
}
