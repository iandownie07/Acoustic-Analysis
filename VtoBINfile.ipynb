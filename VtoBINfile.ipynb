{
 "cells": [
  {
   "cell_type": "code",
   "execution_count": 7,
   "id": "c1660045-860e-4e36-8412-20665c6d4c9a",
   "metadata": {},
   "outputs": [],
   "source": [
    "import numpy as np\n",
    "import os\n",
    "from pathlib import Path\n",
    "import pathlib "
   ]
  },
  {
   "cell_type": "code",
   "execution_count": 3,
   "id": "dee01d57-316f-46ca-99e6-c4c9ccaa601c",
   "metadata": {},
   "outputs": [],
   "source": [
    "# The NI 9234 returns 24 bit floats between ± 5 V. We'll use 32-bit floats between ± 5 V to simulate.\n",
    "\n",
    "dtype=np.float32\n",
    "\n",
    "# With a sample rate of 44,1kHz, we will create 44100 samples for a second-long measurement"
   ]
  },
  {
   "cell_type": "code",
   "execution_count": 4,
   "id": "bf092808-1794-439f-8da9-2a76996ee9c0",
   "metadata": {},
   "outputs": [
    {
     "ename": "NameError",
     "evalue": "name 'generateDirectoryName' is not defined",
     "output_type": "error",
     "traceback": [
      "\u001b[0;31m---------------------------------------------------------------------------\u001b[0m",
      "\u001b[0;31mNameError\u001b[0m                                 Traceback (most recent call last)",
      "\u001b[0;32m/var/folders/wf/m25dkr9x3vd5qwc5pfj98r_00000gn/T/ipykernel_789/321574385.py\u001b[0m in \u001b[0;36m<module>\u001b[0;34m\u001b[0m\n\u001b[1;32m      1\u001b[0m \u001b[0mcwd\u001b[0m \u001b[0;34m=\u001b[0m \u001b[0mos\u001b[0m\u001b[0;34m.\u001b[0m\u001b[0mgetcwd\u001b[0m\u001b[0;34m(\u001b[0m\u001b[0;34m)\u001b[0m\u001b[0;34m\u001b[0m\u001b[0;34m\u001b[0m\u001b[0m\n\u001b[0;32m----> 2\u001b[0;31m \u001b[0mdirectory\u001b[0m \u001b[0;34m=\u001b[0m \u001b[0mgenerateDirectoryName\u001b[0m\u001b[0;34m(\u001b[0m\u001b[0;34m\"Measurement\"\u001b[0m\u001b[0;34m)\u001b[0m\u001b[0;34m\u001b[0m\u001b[0;34m\u001b[0m\u001b[0m\n\u001b[0m",
      "\u001b[0;31mNameError\u001b[0m: name 'generateDirectoryName' is not defined"
     ]
    }
   ],
   "source": [
    "cwd = os.getcwd()\n",
    "directory = generateDirectoryName(\"Measurement\")"
   ]
  },
  {
   "cell_type": "code",
   "execution_count": 16,
   "id": "8168a1e6-d329-4e0c-8b61-9939704d9b9d",
   "metadata": {},
   "outputs": [],
   "source": [
    "# Produce a sine wave\n",
    "sample_rate = 44100\n",
    "sampling_interval = 1/sample_rate\n",
    "\n",
    "freq = 100\n",
    "omega = 2*np.pi*freq\n",
    "#amplitude = np.iinfo(np.int16).max # output machine limit for type\n",
    "amplitude = 5\n",
    "\n",
    "t = np.arange(0, 1, sampling_interval)\n",
    "ADC_input = amplitude*np.sin(omega*t, dtype=np.float32)\n",
    "\n",
    "i = 0\n",
    "# now save it in the folder TO DO\n",
    "#pth = pathlib.Path().resolve().joinpath(measurement_\n",
    "#Path(\"/Users/iandownie/Hydrophones/Acoustic Analysis/Hibs9\").mkdir(parents=True, exist_ok=True)\n",
    "os.chdir(\"/Users/iandownie/Hydrophones/Acoustic Analysis/Hibs\")                                       \n",
    "while os.path.exists(\"recording%s.npy\" % i):\n",
    "    i += 1\n",
    "with open(\"recording%s.npy\" % i, 'wb') as f:\n",
    "    np.save(f, ADC_input)"
   ]
  },
  {
   "cell_type": "code",
   "execution_count": 13,
   "id": "cd45feec-2195-4d88-a429-006136bdbeed",
   "metadata": {},
   "outputs": [
    {
     "data": {
      "text/plain": [
       "numpy.float32"
      ]
     },
     "execution_count": 13,
     "metadata": {},
     "output_type": "execute_result"
    }
   ],
   "source": [
    "type(ADC_input[0])"
   ]
  },
  {
   "cell_type": "code",
   "execution_count": 14,
   "id": "73036b98-c731-4478-ae5c-4caffbf61b2e",
   "metadata": {},
   "outputs": [],
   "source": [
    "pth = pathlib.Path().resolve()"
   ]
  },
  {
   "cell_type": "code",
   "execution_count": 15,
   "id": "ad24787a-7122-4552-aaf6-c238e7a96088",
   "metadata": {},
   "outputs": [
    {
     "name": "stdout",
     "output_type": "stream",
     "text": [
      "/Users/iandownie/Hydrophones/Acoustic Analysis/Hibs\n"
     ]
    }
   ],
   "source": [
    "print(pth)"
   ]
  },
  {
   "cell_type": "code",
   "execution_count": 16,
   "id": "73044bfb-005c-4741-a2bf-afe865ec71e1",
   "metadata": {},
   "outputs": [
    {
     "name": "stdout",
     "output_type": "stream",
     "text": [
      "BEFORE: /Users/iandownie/Hydrophones/code:/Users/iandownie/Hydrophones/code:/Users/iandownie/Hydrophones/code\n",
      "folder=PosixPath('/Users/iandownie/Hydrophones/Acoustic Analysis/code')\n",
      "pathlist=['/Users/iandownie/Hydrophones/Acoustic Analysis/code', '/Users/iandownie/Hydrophones/code', '/Users/iandownie/Hydrophones/code', '/Users/iandownie/Hydrophones/code']\n",
      "AFTER: /Users/iandownie/Hydrophones/Acoustic Analysis/code:/Users/iandownie/Hydrophones/code:/Users/iandownie/Hydrophones/code:/Users/iandownie/Hydrophones/code\n"
     ]
    }
   ],
   "source": [
    "import os\n",
    "from pathlib import Path\n",
    "\n",
    "PYTHONPATH = 'PYTHONPATH'\n",
    "\n",
    "try:\n",
    "    pythonpath = os.environ[PYTHONPATH]\n",
    "except KeyError:\n",
    "    pythonpath = ''\n",
    "\n",
    "print('BEFORE:', pythonpath)\n",
    "\n",
    "folder = pathlib.Path().resolve().joinpath('code')\n",
    "print(f'{folder=}')\n",
    "\n",
    "pathlist = [str(folder)]\n",
    "if pythonpath:\n",
    "    pathlist.extend(pythonpath.split(os.pathsep))\n",
    "print(f'{pathlist=}')\n",
    "\n",
    "os.environ[PYTHONPATH] = os.pathsep.join(pathlist)\n",
    "print('AFTER:', os.environ[PYTHONPATH])"
   ]
  },
  {
   "cell_type": "code",
   "execution_count": 5,
   "id": "49df9c2c-3a8d-49dc-8ab7-9f8cbaacbd66",
   "metadata": {},
   "outputs": [
    {
     "name": "stdin",
     "output_type": "stream",
     "text": [
      "Enter name to create directory:  Hibs\n"
     ]
    }
   ],
   "source": [
    "import os\n",
    "\n",
    "def generateDirectoryName(name, x=0):\n",
    "    while True:\n",
    "        dir_name = (name + (' ' + str(x) if x != 0 else '')).strip()\n",
    "        if not os.path.exists(dir_name):\n",
    "            os.mkdir(dir_name)\n",
    "            return dir_name\n",
    "        else:\n",
    "            x = x + 1\n",
    "\n",
    "def createDirectory():\n",
    "    user_input = input(\"Enter name to create directory: \")\n",
    "    generateDirectoryName(user_input)\n",
    "\n",
    "def main():\n",
    "    cwd = os.getcwd()\n",
    "    createDirectory()\n",
    "\n",
    "main()"
   ]
  },
  {
   "cell_type": "code",
   "execution_count": null,
   "id": "5d0b0ecf-1b51-47bd-b256-071c0151c0d7",
   "metadata": {},
   "outputs": [],
   "source": []
  }
 ],
 "metadata": {
  "kernelspec": {
   "display_name": "Python 3 (ipykernel)",
   "language": "python",
   "name": "python3"
  },
  "language_info": {
   "codemirror_mode": {
    "name": "ipython",
    "version": 3
   },
   "file_extension": ".py",
   "mimetype": "text/x-python",
   "name": "python",
   "nbconvert_exporter": "python",
   "pygments_lexer": "ipython3",
   "version": "3.8.8"
  }
 },
 "nbformat": 4,
 "nbformat_minor": 5
}
