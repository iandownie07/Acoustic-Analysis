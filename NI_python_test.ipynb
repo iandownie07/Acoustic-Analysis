{
 "cells": [
  {
   "cell_type": "code",
   "execution_count": 35,
   "id": "ddb9c9bf-f194-49cb-a48b-f7b911210c62",
   "metadata": {},
   "outputs": [],
   "source": [
    "import nidaqmx\n",
    "import numpy as np\n",
    "from nidaqmx.stream_readers import AnalogMultiChannelReader\n",
    "from nidaqmx.constants import AcquisitionType \n",
    "import time\n",
    "import matplotlib.pyplot as plt"
   ]
  },
  {
   "cell_type": "code",
   "execution_count": 36,
   "id": "ebc9ea37-f923-4d97-a68f-96e9a3afeb16",
   "metadata": {},
   "outputs": [],
   "source": [
    "with nidaqmx.Task() as task:\n",
    "#, nidaqmx.Task() as samp_clk_task:\n",
    "    \n",
    "    sampling_rate = 44100\n",
    "    \n",
    "    \n",
    "    task.ai_channels.add_ai_voltage_chan(\"cDAQ1Mod1/ai0\")\n",
    "    #samp_clk_task.ai_channels.add_ai_chan('cDAQ1Mod1/ai0')\n",
    "    \n",
    "    task.timing.cfg_samp_clk_timing(sampling_rate)\n",
    "\n",
    "    \n",
    "\n",
    "    hibs = task.read()"
   ]
  },
  {
   "cell_type": "code",
   "execution_count": 28,
   "id": "fe7f2b5a-bb4b-4007-ab1f-78e97cb8882b",
   "metadata": {},
   "outputs": [
    {
     "name": "stdout",
     "output_type": "stream",
     "text": [
      "-0.183943592052\n",
      "<class 'float'>\n"
     ]
    }
   ],
   "source": [
    "print(hibs)\n",
    "print(type(hibs))"
   ]
  },
  {
   "cell_type": "code",
   "execution_count": 20,
   "id": "df803a5e-e979-4bde-9d79-96aac64a9377",
   "metadata": {},
   "outputs": [],
   "source": [
    "with nidaqmx.Task() as task:\n",
    "#, nidaqmx.Task() as samp_clk_task:\n",
    "    \n",
    "    sampling_rate = 10000\n",
    "    \n",
    "    data = np.empty([1,10000])\n",
    "    reader = AnalogMultiChannelReader(task.in_stream)\n",
    "    \n",
    "    task.ai_channels.add_ai_voltage_chan(\"cDAQ1Mod1/ai0\")\n",
    "    #samp_clk_task.ai_channels.add_ai_chan('cDAQ1Mod1/ai0')\n",
    "    \n",
    "    task.timing.cfg_samp_clk_timing(sampling_rate, source=\"\",\n",
    "                                     sample_mode=AcquisitionType.CONTINUOUS, samps_per_chan=10000)\n",
    "    reader = AnalogMultiChannelReader(task.in_stream)\n",
    "    \n",
    "   \n",
    "\n",
    "    hibs = reader.read_many_sample(data,number_of_samples_per_channel = 10000)#\n",
    "        "
   ]
  },
  {
   "cell_type": "code",
   "execution_count": 37,
   "id": "952e6d86-5089-48d8-929e-9c67a55d3ff5",
   "metadata": {},
   "outputs": [
    {
     "ename": "SyntaxError",
     "evalue": "positional argument follows keyword argument (3588009285.py, line 29)",
     "output_type": "error",
     "traceback": [
      "\u001b[0;36m  File \u001b[0;32m\"/tmp/ipykernel_2805/3588009285.py\"\u001b[0;36m, line \u001b[0;32m29\u001b[0m\n\u001b[0;31m    task_write.write(number_of_samples_per_channel = 1, data[k])\u001b[0m\n\u001b[0m                                                               ^\u001b[0m\n\u001b[0;31mSyntaxError\u001b[0m\u001b[0;31m:\u001b[0m positional argument follows keyword argument\n"
     ]
    }
   ],
   "source": [
    "sampling_rate_write = 10\n",
    "sampling_rate_read = 10000\n",
    "\n",
    "task_read = nidaqmx.Task()\n",
    "task_read.ai_channels.add_ai_voltage_chan(\"cDAQ1Mod1/ai0\")\n",
    "task_read.timing.cfg_samp_clk_timing(sampling_rate_read)\n",
    "\n",
    "\n",
    "task_write = nidaqmx.Task()\n",
    "task_write.ao_channels.add_ao_voltage_chan(\"cDAQ1Mod2/ao0\",'output', -2, 2)\n",
    "task_write.timing.cfg_samp_clk_timing(sampling_rate_write)\n",
    "\n",
    "start=0; stop=20; increment=1\n",
    "\n",
    "sample_rate = 44100 \n",
    "sampling_interval = 1/sample_rate\n",
    "\n",
    "freq = 100\n",
    "omega = 2*np.pi*freq\n",
    "amplitude = 1\n",
    "t = np.arange(0, 4, sampling_interval)\n",
    "data = amplitude*np.sin(omega*t)\n",
    "\n",
    "value = []\n",
    "\n",
    "for k in range(start, stop, increment):\n",
    "    #data = 1.5*np.ones(2)\n",
    "\n",
    "    task_write.write(number_of_samples_per_channel = 1, data[k])\n",
    "    task_write.start()\n",
    "    \n",
    "\n",
    "    #time.sleep(1/sampling_rate)\n",
    "    task_read.start()\n",
    "    value[k] = task_read.read(number_of_samples_per_channel = 1)\n",
    "    \n",
    "    print(value[k])\n",
    "    task_write.wait_until_done()\n",
    "    task_read.wait_until_done()\n",
    "    \n",
    "    task_read.stop()\n",
    "    task_write.stop() \n",
    "\n",
    "  \n",
    "#task_write.stop()\n",
    "task_write.close()\n",
    "#task_read.stop()\n",
    "task_read.close()"
   ]
  },
  {
   "cell_type": "code",
   "execution_count": 18,
   "id": "2ad76f6f-cb9e-4559-996e-f87a1bd9206c",
   "metadata": {},
   "outputs": [
    {
     "data": {
      "text/plain": [
       "[<matplotlib.lines.Line2D at 0x7f670cc19580>]"
      ]
     },
     "execution_count": 18,
     "metadata": {},
     "output_type": "execute_result"
    },
    {
     "data": {
      "image/png": "[encoded data removed]",
      "text/plain": [
       "<Figure size 640x480 with 1 Axes>"
      ]
     },
     "metadata": {},
     "output_type": "display_data"
    }
   ],
   "source": [
    "plt.plot(value)"
   ]
  },
  {
   "cell_type": "code",
   "execution_count": 6,
   "id": "17bc0903-30b6-47fe-a70d-090c552dcaaf",
   "metadata": {},
   "outputs": [
    {
     "name": "stdout",
     "output_type": "stream",
     "text": [
      "DriverVersion(major_version=22, minor_version=5, update_version=0)\n",
      "Device(name=cDAQ1)\n",
      "Device(name=cDAQ1Mod1)\n",
      "Device(name=cDAQ1Mod2)\n"
     ]
    }
   ],
   "source": [
    "import nidaqmx.system\n",
    "\n",
    "system = nidaqmx.system.System.local()\n",
    "print(system.driver_version)\n",
    "# DriverVersion(major_version=17L, minor_version=1L, update_version=0L)\n",
    "\n",
    "for device in system.devices:\n",
    "    print(device)"
   ]
  },
  {
   "cell_type": "code",
   "execution_count": null,
   "id": "88a4547b-cb92-4e7b-bc07-1d17699de1d8",
   "metadata": {},
   "outputs": [],
   "source": [
    "\n",
    "import pprint\n",
    "import nidaqmx\n",
    "\n",
    "pp = pprint.PrettyPrinter(indent=4)\n",
    "\n",
    "with nidaqmx.Task() as task:\n",
    "    task.ai_channels.add_ai_voltage_chan(\"cDAQ1Mod1/ai0\")\n",
    "    task.timing.cfg_samp_clk_timing(sampling_rate)\n",
    "    in_stream = task.in_stream\n",
    "\n",
    "    print('1 Channel 1 Sample Read Raw: ')\n",
    "    data = in_stream.read(number_of_samples_per_channel=1)\n",
    "    pp.pprint(data)\n",
    "\n",
    "    print('1 Channel N Samples Read Raw: ')\n",
    "    data = in_stream.read(number_of_samples_per_channel=8)\n",
    "    pp.pprint(data)\n",
    "    \n",
    "    task.wait_until_done()\n",
    "    task.stop()\n",
    "\n",
    "    task.ai_channels.add_ai_voltage_chan(\"cDAQ1Mod1/ai1:3\")\n",
    "    \n",
    "\n",
    "    print('N Channel 1 Sample Read Raw: ')\n",
    "    data = in_stream.read(number_of_samples_per_channel=1)\n",
    "    pp.pprint(data)\n",
    "\n",
    "    print('N Channel N Samples Read Raw: ')\n",
    "    data = in_stream.read(number_of_samples_per_channel=8)\n",
    "    pp.pprint(data)\n",
    "    \n",
    "    task.wait_until_done()\n",
    "    task.stop()"
   ]
  },
  {
   "cell_type": "code",
   "execution_count": null,
   "id": "51e3cbc4-488e-42cc-b773-881c39a04cdf",
   "metadata": {},
   "outputs": [],
   "source": []
  }
 ],
 "metadata": {
  "kernelspec": {
   "display_name": "Python 3 (ipykernel)",
   "language": "python",
   "name": "python3"
  },
  "language_info": {
   "codemirror_mode": {
    "name": "ipython",
    "version": 3
   },
   "file_extension": ".py",
   "mimetype": "text/x-python",
   "name": "python",
   "nbconvert_exporter": "python",
   "pygments_lexer": "ipython3",
   "version": "3.9.13"
  }
 },
 "nbformat": 4,
 "nbformat_minor": 5
}
