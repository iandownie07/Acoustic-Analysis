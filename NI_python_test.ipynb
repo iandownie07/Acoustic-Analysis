{
 "cells": [
  {
   "cell_type": "code",
   "execution_count": 43,
   "id": "ddb9c9bf-f194-49cb-a48b-f7b911210c62",
   "metadata": {},
   "outputs": [],
   "source": [
    "import nidaqmx\n",
    "import numpy as np\n",
    "from nidaqmx.stream_readers import AnalogMultiChannelReader\n",
    "from nidaqmx.constants import AcquisitionType \n",
    "import time\n",
    "import matplotlib.pyplot as plt"
   ]
  },
  {
   "cell_type": "code",
   "execution_count": 72,
   "id": "952e6d86-5089-48d8-929e-9c67a55d3ff5",
   "metadata": {},
   "outputs": [
    {
     "name": "stdout",
     "output_type": "stream",
     "text": [
      "[-0.987008071941]\n",
      "[0.605394167067]\n",
      "[0.75078805774]\n",
      "[0.751083728984]\n",
      "[0.728340867945]\n",
      "[0.857527820388]\n",
      "[0.843853636244]\n",
      "[0.775587788776]\n",
      "[0.752019613996]\n",
      "[0.861479063376]\n",
      "[0.8023839116]\n",
      "[0.909311217785]\n",
      "[0.640593706487]\n",
      "[0.650630034726]\n",
      "[0.654729113336]\n",
      "[0.6538732550449999]\n",
      "[0.7661434139159999]\n",
      "[0.799042948721]\n",
      "[0.766147079262]\n",
      "[0.714277546234]\n"
     ]
    }
   ],
   "source": [
    "sampling_rate_write = 100\n",
    "sampling_rate_read = 50000\n",
    "\n",
    "task_read = nidaqmx.Task()\n",
    "task_read.ai_channels.add_ai_voltage_chan(\"cDAQ1Mod1/ai0\")\n",
    "task_read.timing.cfg_samp_clk_timing(sampling_rate_read)\n",
    "\n",
    "\n",
    "task_write = nidaqmx.Task()\n",
    "task_write.ao_channels.add_ao_voltage_chan(\"cDAQ1Mod2/ao0\",'output', -2, 2)\n",
    "task_write.timing.cfg_samp_clk_timing(sampling_rate_write)\n",
    "\n",
    "start=0; stop=20; increment=1\n",
    "\n",
    "sample_rate = 44100 \n",
    "sampling_interval = 1/sample_rate\n",
    "\n",
    "freq = 100\n",
    "omega = 2*np.pi*freq\n",
    "amplitude = 1\n",
    "t = np.arange(0, 1, sampling_interval)\n",
    "data = amplitude*np.sin(omega*t)\n",
    "\n",
    "arr = []\n",
    "\n",
    "\n",
    "for k in range(start, stop, increment):\n",
    "    #data = 1.5*np.ones(2)\n",
    "\n",
    "    task_write.write(data)\n",
    "    task_write.start()\n",
    "    \n",
    "\n",
    "    #time.sleep(1/sampling_rate)\n",
    "    task_read.start()\n",
    "    value = task_read.read(number_of_samples_per_channel = 1)\n",
    "    arr.append(value)\n",
    "    \n",
    "    print(value)\n",
    "    \n",
    "    task_read.wait_until_done()\n",
    "    task_write.wait_until_done()\n",
    "    \n",
    "    task_read.stop()\n",
    "    task_write.stop() \n",
    "\n",
    "  \n",
    "#task_write.stop()\n",
    "task_write.close()\n",
    "#task_read.stop()\n",
    "task_read.close()"
   ]
  },
  {
   "cell_type": "code",
   "execution_count": 73,
   "id": "2ad76f6f-cb9e-4559-996e-f87a1bd9206c",
   "metadata": {},
   "outputs": [
    {
     "data": {
      "text/plain": [
       "[<matplotlib.lines.Line2D at 0x7f670bca3460>]"
      ]
     },
     "execution_count": 73,
     "metadata": {},
     "output_type": "execute_result"
    },
    {
     "data": {
      "image/png": "[encoded data removed]",
      "text/plain": [
       "<Figure size 640x480 with 1 Axes>"
      ]
     },
     "metadata": {},
     "output_type": "display_data"
    },
    {
     "name": "stderr",
     "output_type": "stream",
     "text": [
      "/home/ian/anaconda3/lib/python3.9/site-packages/nidaqmx/task.py:98: ResourceWarning: Task of name \"_unnamedTask<52>\" was not explicitly closed before it was destructed. Resources on the task device may still be reserved.\n",
      "  warnings.warn(\n",
      "/home/ian/anaconda3/lib/python3.9/site-packages/nidaqmx/task.py:98: ResourceWarning: Task of name \"_unnamedTask<53>\" was not explicitly closed before it was destructed. Resources on the task device may still be reserved.\n",
      "  warnings.warn(\n",
      "/home/ian/anaconda3/lib/python3.9/site-packages/nidaqmx/task.py:98: ResourceWarning: Task of name \"_unnamedTask<51>\" was not explicitly closed before it was destructed. Resources on the task device may still be reserved.\n",
      "  warnings.warn(\n"
     ]
    }
   ],
   "source": [
    "plt.plot(arr)"
   ]
  },
  {
   "cell_type": "code",
   "execution_count": null,
   "id": "fa10b066-549b-4657-9a58-9eb74549f1f7",
   "metadata": {},
   "outputs": [],
   "source": []
  },
  {
   "cell_type": "code",
   "execution_count": 41,
   "id": "ebc9ea37-f923-4d97-a68f-96e9a3afeb16",
   "metadata": {},
   "outputs": [],
   "source": [
    "with nidaqmx.Task() as task:\n",
    "#, nidaqmx.Task() as samp_clk_task:\n",
    "    \n",
    "    sampling_rate = 44100\n",
    "    \n",
    "    \n",
    "    task.ai_channels.add_ai_voltage_chan(\"cDAQ1Mod1/ai0\")\n",
    "    #samp_clk_task.ai_channels.add_ai_chan('cDAQ1Mod1/ai0')\n",
    "    \n",
    "    task.timing.cfg_samp_clk_timing(sampling_rate)\n",
    "\n",
    "    \n",
    "\n",
    "    hibs = task.read()"
   ]
  },
  {
   "cell_type": "code",
   "execution_count": 28,
   "id": "fe7f2b5a-bb4b-4007-ab1f-78e97cb8882b",
   "metadata": {},
   "outputs": [
    {
     "name": "stdout",
     "output_type": "stream",
     "text": [
      "-0.183943592052\n",
      "<class 'float'>\n"
     ]
    }
   ],
   "source": [
    "print(hibs)\n",
    "print(type(hibs))"
   ]
  },
  {
   "cell_type": "code",
   "execution_count": 20,
   "id": "df803a5e-e979-4bde-9d79-96aac64a9377",
   "metadata": {},
   "outputs": [],
   "source": [
    "with nidaqmx.Task() as task:\n",
    "#, nidaqmx.Task() as samp_clk_task:\n",
    "    \n",
    "    sampling_rate = 10000\n",
    "    \n",
    "    data = np.empty([1,10000])\n",
    "    reader = AnalogMultiChannelReader(task.in_stream)\n",
    "    \n",
    "    task.ai_channels.add_ai_voltage_chan(\"cDAQ1Mod1/ai0\")\n",
    "    #samp_clk_task.ai_channels.add_ai_chan('cDAQ1Mod1/ai0')\n",
    "    \n",
    "    task.timing.cfg_samp_clk_timing(sampling_rate, source=\"\",\n",
    "                                     sample_mode=AcquisitionType.CONTINUOUS, samps_per_chan=10000)\n",
    "    reader = AnalogMultiChannelReader(task.in_stream)\n",
    "    \n",
    "   \n",
    "\n",
    "    hibs = reader.read_many_sample(data,number_of_samples_per_channel = 10000)#\n",
    "        "
   ]
  },
  {
   "cell_type": "code",
   "execution_count": 6,
   "id": "17bc0903-30b6-47fe-a70d-090c552dcaaf",
   "metadata": {},
   "outputs": [
    {
     "name": "stdout",
     "output_type": "stream",
     "text": [
      "DriverVersion(major_version=22, minor_version=5, update_version=0)\n",
      "Device(name=cDAQ1)\n",
      "Device(name=cDAQ1Mod1)\n",
      "Device(name=cDAQ1Mod2)\n"
     ]
    }
   ],
   "source": [
    "import nidaqmx.system\n",
    "\n",
    "system = nidaqmx.system.System.local()\n",
    "print(system.driver_version)\n",
    "# DriverVersion(major_version=17L, minor_version=1L, update_version=0L)\n",
    "\n",
    "for device in system.devices:\n",
    "    print(device)"
   ]
  },
  {
   "cell_type": "code",
   "execution_count": null,
   "id": "88a4547b-cb92-4e7b-bc07-1d17699de1d8",
   "metadata": {},
   "outputs": [],
   "source": [
    "\n",
    "import pprint\n",
    "import nidaqmx\n",
    "\n",
    "pp = pprint.PrettyPrinter(indent=4)\n",
    "\n",
    "with nidaqmx.Task() as task:\n",
    "    task.ai_channels.add_ai_voltage_chan(\"cDAQ1Mod1/ai0\")\n",
    "    task.timing.cfg_samp_clk_timing(sampling_rate)\n",
    "    in_stream = task.in_stream\n",
    "\n",
    "    print('1 Channel 1 Sample Read Raw: ')\n",
    "    data = in_stream.read(number_of_samples_per_channel=1)\n",
    "    pp.pprint(data)\n",
    "\n",
    "    print('1 Channel N Samples Read Raw: ')\n",
    "    data = in_stream.read(number_of_samples_per_channel=8)\n",
    "    pp.pprint(data)\n",
    "    \n",
    "    task.wait_until_done()\n",
    "    task.stop()\n",
    "\n",
    "    task.ai_channels.add_ai_voltage_chan(\"cDAQ1Mod1/ai1:3\")\n",
    "    \n",
    "\n",
    "    print('N Channel 1 Sample Read Raw: ')\n",
    "    data = in_stream.read(number_of_samples_per_channel=1)\n",
    "    pp.pprint(data)\n",
    "\n",
    "    print('N Channel N Samples Read Raw: ')\n",
    "    data = in_stream.read(number_of_samples_per_channel=8)\n",
    "    pp.pprint(data)\n",
    "    \n",
    "    task.wait_until_done()\n",
    "    task.stop()"
   ]
  },
  {
   "cell_type": "code",
   "execution_count": 50,
   "id": "51e3cbc4-488e-42cc-b773-881c39a04cdf",
   "metadata": {},
   "outputs": [],
   "source": [
    "data = 1.5*np.ones(2)"
   ]
  },
  {
   "cell_type": "code",
   "execution_count": 51,
   "id": "cfa28889-df2d-4631-8924-17336ef810a8",
   "metadata": {},
   "outputs": [
    {
     "data": {
      "text/plain": [
       "array([1.5, 1.5])"
      ]
     },
     "execution_count": 51,
     "metadata": {},
     "output_type": "execute_result"
    }
   ],
   "source": [
    "data"
   ]
  },
  {
   "cell_type": "code",
   "execution_count": null,
   "id": "8604ba1e-114d-4cae-96e7-86d10c8df58a",
   "metadata": {},
   "outputs": [],
   "source": []
  }
 ],
 "metadata": {
  "kernelspec": {
   "display_name": "Python 3 (ipykernel)",
   "language": "python",
   "name": "python3"
  },
  "language_info": {
   "codemirror_mode": {
    "name": "ipython",
    "version": 3
   },
   "file_extension": ".py",
   "mimetype": "text/x-python",
   "name": "python",
   "nbconvert_exporter": "python",
   "pygments_lexer": "ipython3",
   "version": "3.9.13"
  }
 },
 "nbformat": 4,
 "nbformat_minor": 5
}
