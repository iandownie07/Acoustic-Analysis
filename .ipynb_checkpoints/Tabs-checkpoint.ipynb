{
 "cells": [
  {
   "cell_type": "code",
   "execution_count": null,
   "id": "587db945-f897-4c8c-aac8-81695bf0c037",
   "metadata": {},
   "outputs": [],
   "source": [
    "import numpy as np\n",
    "import matplotlib.pyplot as plt\n",
    "import PySimpleGUI as sg\n",
    "from matplotlib.backends.backend_tkagg import FigureCanvasTkAgg\n",
    "from scipy.signal import chirp, spectrogram\n",
    "import scipy.fft as fft\n",
    "import os"
   ]
  },
  {
   "cell_type": "code",
   "execution_count": 4,
   "id": "1f2d916f-d893-437e-85db-df173b7db8e0",
   "metadata": {},
   "outputs": [],
   "source": [
    "# Front page tab\n",
    "\n",
    "cwd = os.getcwd()\n",
    "\n",
    "create_file = [[sg.Text('Please enter the directory name:', background_color='#FDF6E3', text_color='Black')],\n",
    "               [sg.InputText(_VARS['directory_name'], key = '-directory_name-')],\n",
    "               [sg.Submit(), sg.Cancel()]\n",
    "              ]\n",
    "\n",
    "FrontPage_layout = [[sg.Frame('', layout = create_file, background_color='#FDF6E3')]]\n",
    "\n"
   ]
  },
  {
   "cell_type": "code",
   "execution_count": 5,
   "id": "a2d61305-4136-4ce7-b66b-8d25c4d2a754",
   "metadata": {
    "tags": []
   },
   "outputs": [],
   "source": [
    "# Signal Generation tab\n",
    "\n",
    "options = [[sg.Text(text = \"Max frequency (Chirp)\", background_color='#FDF6E3', text_color='Black')],\n",
    "           [sg.InputText(_VARS['max_frequency'], key = '-max_frequency-')],\n",
    "           [sg.Text(text = \"Frequency (Constant)\", background_color='#FDF6E3', text_color='Black')],\n",
    "           [sg.InputText(_VARS['frequency'], key = '-frequency-')],\n",
    "           [sg.Text(text = \"Peak amplitude\", background_color='#FDF6E3', text_color='Black')],\n",
    "           [sg.InputText(_VARS['peak_amplitude'], key = '-peak_amplitude-')],\n",
    "           [sg.Text(text = \"Sampling rate\", background_color='#FDF6E3', text_color='Black')],\n",
    "           [sg.InputText(_VARS['sampling_rate'], key = '-sampling_rate-')],\n",
    "           [sg.Text(text = \"Pulse time\", background_color='#FDF6E3', text_color='Black')],\n",
    "           [sg.InputText(_VARS['pulse_time'], key = '-pulse_time-')],\n",
    "           [sg.Text(text = \"Pulse type\", background_color='#FDF6E3', text_color='Black')],\n",
    "           [sg.Listbox(pulse_choices, default_values = 'Constant', select_mode='extended', key = '-pulse_type-', size=(30, 6))],\n",
    "           [sg.Button('OK', font=AppFont, pad=((4, 0), (10, 0)))]]\n",
    "           #[sg.InputText(_VARS['pulse_type'])]]\n",
    "\n",
    "layout = [[sg.Canvas(key='figCanvas', background_color='#FDF6E3')],\n",
    "          [sg.Canvas(key='figCanvasFreq', background_color='#FDF6E3')],  \n",
    "          [sg.Text(text=\"Random sample size :\",\n",
    "                   font=SliderFont,\n",
    "                   background_color='#FDF6E3',\n",
    "                   pad=((0, 0), (10, 0)),\n",
    "                   text_color='Black'),\n",
    "           sg.Slider(range=(4, 1000), orientation='h', size=(34, 20),\n",
    "                     default_value=_VARS['sampling_rate'],\n",
    "                     background_color='#FDF6E3',\n",
    "                     text_color='Black',\n",
    "                     key='-Slider-',\n",
    "                     enable_events=True),\n",
    "           sg.Button('Resample',\n",
    "                     font=AppFont,\n",
    "                     pad=((4, 0), (10, 0)))],\n",
    "          # pad ((left, right), (top, bottom))\n",
    "          [sg.Button('Exit', font=AppFont, pad=((540, 0), (0, 0)))] ]\n",
    "\n",
    "SigGen_layout = [[sg.Column(options, background_color='#FDF6E3'), \n",
    "                  sg.Column(layout, background_color='#FDF6E3')]]\n",
    "\n",
    "\n"
   ]
  },
  {
   "cell_type": "code",
   "execution_count": 6,
   "id": "db1ca23f-52a1-41f4-9252-63c35ad2bead",
   "metadata": {},
   "outputs": [],
   "source": [
    "# Measurement tab\n",
    "#########  1st Row #########\n",
    "# 1st Column\n",
    "measurement_type = [\n",
    "                    [sg.Text(text = \"measurement type\", background_color='#FDF6E3', text_color='Black')],\n",
    "                    [sg.Radio('single-shot measurement', \"-meas-type-\", default = True,\\\n",
    "                              background_color='#FDF6E3', text_color='Black')],\n",
    "                    [sg.Radio('continuous measurement', \"-meas_type-\", default = False, \\\n",
    "                              background_color='#FDF6E3', text_color='Black')]\n",
    "                   ]\n",
    "\n",
    "#start_measurement = sg.Button('Start Measurement', font=AppFont, pad=((540, 0), (0, 0)))\n",
    "\n",
    "miscellaneous = [ [sg.InputText(_VARS['duration'], key = '-duration-', pad=((0, 0), (0, 30))),\\\n",
    "                  sg.InputText(_VARS['freq_resolution'], key = '-freq_resolution-', pad=((0, 0), (0, 30)))], \n",
    "                 [sg.Button('Start', font=AppFont, pad=((54, 0), (0, 0)))]\n",
    "                 ]\n",
    "\n",
    "measurement_row1 = [[sg.Frame('',[[\n",
    "                     sg.Text(text = \"measurement type\", background_color='#FDF6E3', text_color='Black', pad=((0, 70), (0, 0))),\n",
    "                     sg.Text(text = 'Comments', background_color='#FDF6E3', text_color='Black', pad=((0, 160), (0, 0))),\n",
    "                     sg.Text(text = \"Acquisition Duration (s)\", background_color='#FDF6E3', text_color='Black', pad=((0, 160), (0, 0))),\n",
    "                     sg.Text(text = \"Frequency resolution\", background_color='#FDF6E3', text_color='Black')\n",
    "                        ]], background_color='#FDF6E3')],\n",
    "                    [sg.Column(measurement_type, background_color='#FDF6E3'), \\\n",
    "                     sg.Multiline(size=(30, 5), key='-comments-'), \\\n",
    "                     sg.Column(miscellaneous, background_color='#FDF6E3')]\n",
    "                   ]\n",
    "                   \n",
    "\n",
    "#---------------------------------------------------------------------\n",
    "\n",
    "Measurement_layout = [ [sg.Frame('', layout = measurement_row1, background_color='#FDF6E3')],\n",
    "                       [sg.Canvas(key='RMSCanvas', background_color='#FDF6E3'), \\\n",
    "                        sg.Canvas(key='PowerSpecCanvas', background_color='#FDF6E3')],\n",
    "                       [sg.Canvas(key='TimeSeriesCanvas', background_color='#FDF6E3')]\n",
    "                       ]"
   ]
  }
 ],
 "metadata": {
  "kernelspec": {
   "display_name": "Python 3 (ipykernel)",
   "language": "python",
   "name": "python3"
  },
  "language_info": {
   "codemirror_mode": {
    "name": "ipython",
    "version": 3
   },
   "file_extension": ".py",
   "mimetype": "text/x-python",
   "name": "python",
   "nbconvert_exporter": "python",
   "pygments_lexer": "ipython3",
   "version": "3.8.8"
  }
 },
 "nbformat": 4,
 "nbformat_minor": 5
}
